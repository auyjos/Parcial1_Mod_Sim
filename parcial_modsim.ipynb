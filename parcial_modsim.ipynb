{
 "cells": [
  {
   "cell_type": "markdown",
   "metadata": {},
   "source": [
    "# Parcial – Modelización y Simulaciones (CC2017)\n",
    "\n",
    "Notebook  con los incisos **(d)**, **(e)** y **(f)**.  \n",
    "Cumple:\n",
    "- Bootstrapping con **Transformada Inversa** (discreta) sobre 10 valores\n",
    "- 5 rangos (bins) uniformes, **PMF** y **CDF**\n",
    "- **Aceptación–Rechazo** con **GCLM** hacia la distribución simplificada\n",
    "\n",
    "**Datos del enunciado**:\n",
    "- Dataset: `[7, 6, 7, 6, 5, 5, 1, 5, 1, 7]`\n",
    "- Probabilidades: `[0.19, 0.15, 0.08, 0.10, 0.08, 0.04, 0.04, 0.05, 0.01, 0.26]`\n"
   ]
  },
  {
   "cell_type": "code",
   "execution_count": 3,
   "metadata": {
    "trusted": true
   },
   "outputs": [],
   "source": [
    "# =========================\n",
    "# CONFIG (editar aquí)\n",
    "# =========================\n",
    "OUTDIR = \"./out\"           # Carpeta de salida\n",
    "\n",
    "# (d) Bootstrapping\n",
    "N_BOOT = 10_000\n",
    "\n",
    "# (e) Rangos\n",
    "K_BINS = 5\n",
    "USE_PRECOMPUTED_MEANS = True   # Usa OUTDIR/means.npy si existe; si no, recalcula (d)\n",
    "\n",
    "# (f) Aceptación–Rechazo\n",
    "N_ACCEPT = 10_000\n",
    "SEED = 13579\n",
    "USE_PRECOMPUTED_BINS = True    # Usa archivos de (e) si existen; si no, recalcula (d) y (e)\n",
    "\n",
    "# Qué ejecutar (puedes desactivar alguno si presentas por partes)\n",
    "RUN_D = True\n",
    "RUN_E = True\n",
    "RUN_F = True"
   ]
  },
  {
   "cell_type": "code",
   "execution_count": 4,
   "metadata": {
    "trusted": true
   },
   "outputs": [
    {
     "name": "stdout",
     "output_type": "stream",
     "text": [
      "Creado/uso de carpeta: d:\\UVG\\Modsim\\Parcial1\\out\n"
     ]
    }
   ],
   "source": [
    "# =========================\n",
    "# Importaciones y setup\n",
    "# =========================\n",
    "import os\n",
    "from math import floor\n",
    "import numpy as np\n",
    "import pandas as pd\n",
    "\n",
    "# Backend no interactivo para que también funcione al exportar\n",
    "import matplotlib\n",
    "%matplotlib inline\n",
    "import matplotlib.pyplot as plt\n",
    "\n",
    "def ensure_dir(path: str):\n",
    "    os.makedirs(path, exist_ok=True)\n",
    "ensure_dir(OUTDIR)\n",
    "print(\"Creado/uso de carpeta:\", os.path.abspath(OUTDIR))"
   ]
  },
  {
   "cell_type": "markdown",
   "metadata": {},
   "source": [
    "## (a) y (b) – Datos base\n",
    "Se normalizan probabilidades por seguridad ante redondeos."
   ]
  },
  {
   "cell_type": "code",
   "execution_count": 5,
   "metadata": {
    "trusted": true
   },
   "outputs": [
    {
     "name": "stdout",
     "output_type": "stream",
     "text": [
      "Media original: 5.0\n",
      "Suma PROBS: 1.0\n"
     ]
    }
   ],
   "source": [
    "DATA = np.array([7, 6, 7, 6, 5, 5, 1, 5, 1, 7], dtype=float)\n",
    "PROBS = np.array([0.19, 0.15, 0.08, 0.10, 0.08, 0.04, 0.04, 0.05, 0.01, 0.26], dtype=float)\n",
    "PROBS = PROBS / PROBS.sum()\n",
    "print(\"Media original:\", DATA.mean())\n",
    "print(\"Suma PROBS:\", PROBS.sum())"
   ]
  },
  {
   "cell_type": "markdown",
   "metadata": {},
   "source": [
    "## Utilidades (Transformada Inversa y GCLM)\n",
    "Implementaciones simples y claras para reutilizar en (d), (e) y (f)."
   ]
  },
  {
   "cell_type": "code",
   "execution_count": 6,
   "metadata": {
    "trusted": true
   },
   "outputs": [],
   "source": [
    "def inverse_transform_sample(u: np.ndarray, values: np.ndarray, cdf: np.ndarray) -> np.ndarray:\n",
    "    \"\"\"Transformada inversa discreta para mapear U(0,1) -> valores discretos.\"\"\"\n",
    "    idx = np.searchsorted(cdf, u, side=\"left\")\n",
    "    return values[idx]\n",
    "\n",
    "class LCGMixed:\n",
    "    \"\"\"Generador Congruencial Lineal Mixto (constantes C/ANSI).\"\"\"\n",
    "    def __init__(self, seed: int, a: int=1103515245, c: int=12345, m: int=2**31):\n",
    "        self.a = a\n",
    "        self.c = c\n",
    "        self.m = m\n",
    "        self.state = seed % m\n",
    "    def rand_uint(self) -> int:\n",
    "        self.state = (self.a * self.state + self.c) % self.m\n",
    "        return self.state\n",
    "    def rand(self) -> float:\n",
    "        return self.rand_uint() / self.m"
   ]
  },
  {
   "cell_type": "markdown",
   "metadata": {},
   "source": [
    "## (d) Bootstrapping con Transformada Inversa\n",
    "1. Centro los datos restando la media (offset).  \n",
    "2. Genero \\(U \\sim U(0,1)\\) y uso **Transformada Inversa** sobre la CDF discreta (10 valores).  \n",
    "3. Repite N veces y guarda la **media** de cada muestra.\n",
    "\n",
    "Al final: histograma de medias y desviación estándar de esa distribución."
   ]
  },
  {
   "cell_type": "code",
   "execution_count": 7,
   "metadata": {
    "trusted": true
   },
   "outputs": [],
   "source": [
    "def run_bootstrap(N: int, outdir: str):\n",
    "    ensure_dir(outdir)\n",
    "    mean_original = DATA.mean()\n",
    "    offset_data = DATA - mean_original\n",
    "    cdf = np.cumsum(PROBS)\n",
    "\n",
    "    n = len(DATA)\n",
    "    U = np.random.rand(N, n)\n",
    "    samples = inverse_transform_sample(U, offset_data, cdf)\n",
    "    means = samples.mean(axis=1)\n",
    "\n",
    "    # STD de la distribución de medias\n",
    "    std_muestral = means.std(ddof=1)\n",
    "    std_poblacional = means.std(ddof=0)\n",
    "\n",
    "    # Histograma (una sola figura)\n",
    "    plt.figure()\n",
    "    plt.hist(means, bins=30, density=True)\n",
    "    plt.title(\"Distribución de medias (Bootstrapping con Transformada Inversa)\")\n",
    "    plt.xlabel(\"Media de la muestra (offset)\")\n",
    "    plt.ylabel(\"Densidad\")\n",
    "    plt.tight_layout()\n",
    "    plt.savefig(os.path.join(outdir, \"hist_bootstrap_means.png\"), dpi=160)\n",
    "    plt.show()\n",
    "    plt.close()\n",
    "\n",
    "    # Guardar medios\n",
    "    np.save(os.path.join(outdir, \"means.npy\"), means)\n",
    "\n",
    "    # Resumen CSV\n",
    "    resumen = pd.DataFrame({\n",
    "        \"Métrica\": [\n",
    "            \"Media original (datos)\",\n",
    "            \"Media offset (≈0)\",\n",
    "            \"STD medias (muestral)\",\n",
    "            \"STD medias (poblacional)\",\n",
    "            \"Min medias\",\n",
    "            \"Max medias\"\n",
    "        ],\n",
    "        \"Valor\": [\n",
    "            float(mean_original),\n",
    "            float(offset_data.mean()),\n",
    "            float(std_muestral),\n",
    "            float(std_poblacional),\n",
    "            float(means.min()),\n",
    "            float(means.max())\n",
    "        ]\n",
    "    })\n",
    "    resumen.to_csv(os.path.join(outdir, \"bootstrap_resumen.csv\"), index=False)\n",
    "\n",
    "    print(\"== (d) Bootstrap ==\")\n",
    "    print(f\"Media original: {mean_original:.6f}\")\n",
    "    print(f\"STD (muestral) de medias: {std_muestral:.6f}\")\n",
    "    print(f\"STD (poblacional) de medias: {std_poblacional:.6f}\")\n",
    "    print(f\"Rango de medias: [{means.min():.6f}, {means.max():.6f}]\")\n",
    "    return means"
   ]
  },
  {
   "cell_type": "code",
   "execution_count": 8,
   "metadata": {
    "trusted": true
   },
   "outputs": [
    {
     "data": {
      "image/png": "[encoded data removed]",
      "text/plain": [
       "<Figure size 640x480 with 1 Axes>"
      ]
     },
     "metadata": {},
     "output_type": "display_data"
    },
    {
     "name": "stdout",
     "output_type": "stream",
     "text": [
      "== (d) Bootstrap ==\n",
      "Media original: 5.000000\n",
      "STD (muestral) de medias: 0.436413\n",
      "STD (poblacional) de medias: 0.436392\n",
      "Rango de medias: [-1.000000, 2.000000]\n"
     ]
    }
   ],
   "source": [
    "means = None\n",
    "means_path = os.path.join(OUTDIR, \"means.npy\")\n",
    "if RUN_D:\n",
    "    means = run_bootstrap(N_BOOT, OUTDIR)\n",
    "elif USE_PRECOMPUTED_MEANS and os.path.exists(means_path):\n",
    "    means = np.load(means_path)\n",
    "else:\n",
    "    means = run_bootstrap(N_BOOT, OUTDIR)"
   ]
  },
  {
   "cell_type": "markdown",
   "metadata": {},
   "source": [
    "## (e) Rangos, PMF y CDF de la distribución de medias\n",
    "Divide \\[min, max] en `K_BINS` intervalos iguales; obtiene probabilidades por bin y construye PMF/CDF."
   ]
  },
  {
   "cell_type": "code",
   "execution_count": 9,
   "metadata": {
    "trusted": true
   },
   "outputs": [],
   "source": [
    "def build_bins_from_means(means: np.ndarray, k: int, outdir: str):\n",
    "    ensure_dir(outdir)\n",
    "    min_m, max_m = means.min(), means.max()\n",
    "    edges = np.linspace(min_m, max_m, k + 1)\n",
    "    counts, _ = np.histogram(means, bins=edges)\n",
    "    probs_bins = counts / counts.sum()\n",
    "    midpoints = 0.5 * (edges[:-1] + edges[1:])\n",
    "\n",
    "    # Tabla CSV\n",
    "    labels = []\n",
    "    for i in range(k):\n",
    "        left, right = edges[i], edges[i+1]\n",
    "        label = f\"[{left:.6f}, {right:.6f})\" if i < k-1 else f\"[{left:.6f}, {right:.6f}]\"\n",
    "        labels.append(label)\n",
    "    df = pd.DataFrame({\"Bin\": labels, \"Midpoint\": midpoints, \"Probability\": probs_bins})\n",
    "    df.to_csv(os.path.join(outdir, f\"probabilidades_por_bin_k{k}.csv\"), index=False)\n",
    "\n",
    "    # PMF y CDF\n",
    "    order = np.argsort(midpoints)\n",
    "    x = midpoints[order]; pmf = probs_bins[order]; cdf = np.cumsum(pmf)\n",
    "\n",
    "    # PMF\n",
    "    plt.figure()\n",
    "    width = (x.max() - x.min()) / (2 * k) if x.max() > x.min() else 0.1\n",
    "    plt.bar(x, pmf, width=width)\n",
    "    plt.title(f\"PMF – Distribución simplificada ({k} puntos)\")\n",
    "    plt.xlabel(\"x (midpoint de bin)\")\n",
    "    plt.ylabel(\"Probabilidad\")\n",
    "    plt.tight_layout()\n",
    "    plt.savefig(os.path.join(outdir, f\"pmf_simplificada_k{k}.png\"), dpi=160)\n",
    "    plt.close()\n",
    "\n",
    "    # CDF\n",
    "    plt.figure()\n",
    "    plt.step(x, cdf, where=\"post\")\n",
    "    plt.title(f\"CDF – Distribución simplificada ({k} puntos)\")\n",
    "    plt.xlabel(\"x (midpoint de bin)\")\n",
    "    plt.ylabel(\"F(x)\")\n",
    "    plt.ylim(0, 1.05)\n",
    "    plt.tight_layout()\n",
    "    plt.savefig(os.path.join(outdir, f\"cdf_simplificada_k{k}.png\"), dpi=160)\n",
    "    plt.close()\n",
    "\n",
    "    # Guardar para (f)\n",
    "    np.save(os.path.join(outdir, f\"edges_k{k}.npy\"), edges)\n",
    "    np.save(os.path.join(outdir, f\"probs_bins_k{k}.npy\"), probs_bins)\n",
    "\n",
    "    # Print resumen\n",
    "    print(\"== (e) Bins/PMF/CDF ==\")\n",
    "    for i in range(k):\n",
    "        left, right = edges[i], edges[i+1]\n",
    "        label = f\"[{left:.6f}, {right:.6f})\" if i < k-1 else f\"[{left:.6f}, {right:.6f}]\"\n",
    "        print(f\"{label}  midpoint={midpoints[i]:.6f}  p={probs_bins[i]:.6f}\")\n",
    "    return probs_bins, edges"
   ]
  },
  {
   "cell_type": "code",
   "execution_count": 10,
   "metadata": {
    "trusted": true
   },
   "outputs": [
    {
     "name": "stdout",
     "output_type": "stream",
     "text": [
      "== (e) Bins/PMF/CDF ==\n",
      "[-1.000000, -0.400000)  midpoint=-0.700000  p=0.002600\n",
      "[-0.400000, 0.200000)  midpoint=-0.100000  p=0.025100\n",
      "[0.200000, 0.800000)  midpoint=0.500000  p=0.164800\n",
      "[0.800000, 1.400000)  midpoint=1.100000  p=0.469200\n",
      "[1.400000, 2.000000]  midpoint=1.700000  p=0.338300\n"
     ]
    }
   ],
   "source": [
    "edges_path = os.path.join(OUTDIR, f\"edges_k{K_BINS}.npy\")\n",
    "probs_path = os.path.join(OUTDIR, f\"probs_bins_k{K_BINS}.npy\")\n",
    "probs_bins, edges = None, None\n",
    "if RUN_E:\n",
    "    probs_bins, edges = build_bins_from_means(means, K_BINS, OUTDIR)\n",
    "elif USE_PRECOMPUTED_BINS and os.path.exists(edges_path) and os.path.exists(probs_path):\n",
    "    edges = np.load(edges_path); probs_bins = np.load(probs_path)\n",
    "else:\n",
    "    probs_bins, edges = build_bins_from_means(means, K_BINS, OUTDIR)"
   ]
  },
  {
   "cell_type": "markdown",
   "metadata": {},
   "source": [
    "## (f) Aceptación–Rechazo con GCLM\n",
    "Propuesta uniforme en los `K_BINS` y objetivo con probabilidades `p_i` (de (e)).  \n",
    "Constante de rechazo: \\(c = \\max_i p_i / g(i) = K\\_BINS \\cdot \\max p_i\\)."
   ]
  },
  {
   "cell_type": "code",
   "execution_count": 11,
   "metadata": {
    "trusted": true
   },
   "outputs": [],
   "source": [
    "def acceptance_rejection_from_bins(N_accept: int, probs_bins: np.ndarray, edges: np.ndarray, seed: int, outdir: str):\n",
    "    ensure_dir(outdir)\n",
    "    k = len(probs_bins)\n",
    "    rng = LCGMixed(seed=seed)\n",
    "\n",
    "    p = probs_bins.astype(float)\n",
    "    p = p / p.sum() if p.sum() != 1 else p\n",
    "    g = np.full_like(p, 1.0 / k)\n",
    "    c_AR = float((p / g).max())\n",
    "    max_p = float(p.max())\n",
    "\n",
    "    accepted, trials = [], 0\n",
    "    while len(accepted) < N_accept:\n",
    "        trials += 1\n",
    "        u1 = rng.rand()\n",
    "        idx = int(floor(u1 * k))\n",
    "        if idx == k:\n",
    "            idx = k - 1\n",
    "        u2 = rng.rand()\n",
    "        if u2 < (p[idx] / max_p):\n",
    "            u3 = rng.rand()\n",
    "            val = edges[idx] + u3 * (edges[idx+1] - edges[idx])\n",
    "            accepted.append(val)\n",
    "\n",
    "    samples = np.array(accepted, dtype=float)\n",
    "    accept_rate = len(samples) / trials\n",
    "\n",
    "    # Histograma A&R\n",
    "    plt.figure()\n",
    "    plt.hist(samples, bins=30, density=True)\n",
    "    plt.title(\"A&R con GCLM – Aproximación a la distribución de medias (simplificada)\")\n",
    "    plt.xlabel(\"Valor simulado\")\n",
    "    plt.ylabel(\"Densidad\")\n",
    "    plt.tight_layout()\n",
    "    plt.savefig(os.path.join(outdir, \"hist_ar_simplified.png\"), dpi=160)\n",
    "    plt.show()\n",
    "    plt.close()\n",
    "\n",
    "    # PMF/CDF de la distribución simplificada\n",
    "    midpoints = 0.5 * (edges[:-1] + edges[1:])\n",
    "    order = np.argsort(midpoints)\n",
    "    x = midpoints[order]; pmf = p[order]; cdf = np.cumsum(pmf)\n",
    "\n",
    "    # PMF\n",
    "    plt.figure()\n",
    "    width = (x.max() - x.min()) / (2 * k) if x.max() > x.min() else 0.1\n",
    "    plt.bar(x, pmf, width=width)\n",
    "    plt.title(f\"PMF – Distribución simplificada ({k} puntos)\")\n",
    "    plt.xlabel(\"x (midpoint de bin)\")\n",
    "    plt.ylabel(\"Probabilidad\")\n",
    "    plt.tight_layout()\n",
    "    plt.savefig(os.path.join(outdir, f\"pmf_simplificada_k{k}_f.png\"), dpi=160)\n",
    "    plt.show()\n",
    "    plt.close()\n",
    "\n",
    "    # CDF\n",
    "    plt.figure()\n",
    "    plt.step(x, cdf, where=\"post\")\n",
    "    plt.title(f\"CDF – Distribución simplificada ({k} puntos)\")\n",
    "    plt.xlabel(\"x (midpoint de bin)\")\n",
    "    plt.ylabel(\"F(x)\")\n",
    "    plt.ylim(0, 1.05)\n",
    "    plt.tight_layout()\n",
    "    plt.savefig(os.path.join(outdir, f\"cdf_simplificada_k{k}_f.png\"), dpi=160)\n",
    "    plt.show()\n",
    "    plt.close()\n",
    "\n",
    "    # Métricas CSV\n",
    "    metrics = pd.DataFrame({\n",
    "        \"Métrica\": [\"c (A&R)\", \"max p_i\", \"tasa aceptación\", \"N aceptados\", \"ensayos totales\"],\n",
    "        \"Valor\": [c_AR, max_p, accept_rate, int(len(samples)), int(trials)]\n",
    "    })\n",
    "    metrics.to_csv(os.path.join(outdir, \"ar_metricas.csv\"), index=False)\n",
    "\n",
    "    # Ecuación del GCLM y constantes\n",
    "    with open(os.path.join(outdir, \"gclm_ecuacion.txt\"), \"w\", encoding=\"utf-8\") as f:\n",
    "        f.write(\"X_{n+1} = (a X_n + c) mod m;  U_n = X_n / m\\n\")\n",
    "        f.write(\"Constantes usadas: m=2^31, a=1103515245, c=12345\\n\")\n",
    "\n",
    "    print(\"== (f) Aceptación–Rechazo ==\")\n",
    "    print(f\"c (A&R): {c_AR:.6f}   max p_i: {max_p:.6f}   tasa aceptación: {accept_rate:.6f}\")"
   ]
  },
  {
   "cell_type": "code",
   "execution_count": 12,
   "metadata": {
    "trusted": true
   },
   "outputs": [
    {
     "data": {
      "image/png": "[encoded data removed]",
      "text/plain": [
       "<Figure size 640x480 with 1 Axes>"
      ]
     },
     "metadata": {},
     "output_type": "display_data"
    },
    {
     "data": {
      "image/png": "[encoded data removed]",
      "text/plain": [
       "<Figure size 640x480 with 1 Axes>"
      ]
     },
     "metadata": {},
     "output_type": "display_data"
    },
    {
     "data": {
      "image/png": "[encoded data removed]",
      "text/plain": [
       "<Figure size 640x480 with 1 Axes>"
      ]
     },
     "metadata": {},
     "output_type": "display_data"
    },
    {
     "name": "stdout",
     "output_type": "stream",
     "text": [
      "== (f) Aceptación–Rechazo ==\n",
      "c (A&R): 2.346000   max p_i: 0.469200   tasa aceptación: 0.425713\n",
      "Listo. Revisa la carpeta: d:\\UVG\\Modsim\\Parcial1\\out\n"
     ]
    }
   ],
   "source": [
    "if RUN_F:\n",
    "    acceptance_rejection_from_bins(N_ACCEPT, probs_bins, edges, SEED, OUTDIR)\n",
    "print(\"Listo. Revisa la carpeta:\", os.path.abspath(OUTDIR))"
   ]
  },
  {
   "cell_type": "markdown",
   "metadata": {},
   "source": [
    "---\n",
    "**Notas:**\n",
    "- Las figuras y CSVs quedan en `OUTDIR`.\n",
    "- Cumple con una figura por gráfico\n",
    "- Cambiar solo la celda **CONFIG** para repetir el análisis."
   ]
  },
  {
   "cell_type": "markdown",
   "id": "88f93c89",
   "metadata": {},
   "source": []
  }
 ],
 "metadata": {
  "kernelspec": {
   "display_name": "venv",
   "language": "python",
   "name": "python3"
  },
  "language_info": {
   "codemirror_mode": {
    "name": "ipython",
    "version": 3
   },
   "file_extension": ".py",
   "mimetype": "text/x-python",
   "name": "python",
   "nbconvert_exporter": "python",
   "pygments_lexer": "ipython3",
   "version": "3.12.0"
  }
 },
 "nbformat": 4,
 "nbformat_minor": 5
}
